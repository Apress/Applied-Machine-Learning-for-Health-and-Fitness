{
 "cells": [
  {
   "cell_type": "markdown",
   "metadata": {},
   "source": [
    "# Chapter 4. Neural Networks\n",
    "\n",
    "[*Applied Machine Learning for Health and Fitness*](https://www.apress.com/9781484257715) by Kevin Ashley (Apress, 2020).\n",
    "\n",
    "[*Video Course*](http://ai-learning.vhx.tv) Need a deep dive? Watch my [*video course*](http://ai-learning.vhx.tv) that complements this book with additional examples and video-walkthroughs. \n",
    "\n",
    "[*Web Site*](http://activefitness.ai) for research and supplemental materials.\n",
    "\n",
    "\n",
    "> There's something magical about Recurrent Neural Networks (RNNs).\n",
    ">\n",
    "> Andrej Karpathy\n",
    "\n",
    "\n",
    "## Defining a neural network\n",
    "\n",
    "![](images/ch4/fig_4-12.PNG)\n",
    "\n",
    "Neural nets are magical: I remember training my toy Jetbot Nano robot with 100 \"blocked\" and \"unblocked\" images, and the data science toy starts intelligently avoiding spots in my house. The neural net learned to do collision detection based on a small dataset I gave it to (plus some learning that we'll discuss later). If you are an engineer used to conventional rule based programming, just thinking of collision situations, with obstacles being of different shapes, taken at different lighting, different angles will make your head spin. "
   ]
  },
  {
   "cell_type": "markdown",
   "metadata": {},
   "source": [
    "Neurons\n",
    "=======\n",
    "\n",
    "![](images/ch4/fig_4-1.png)\n",
    "\n",
    "Neural nets are best explained with biological analogy, the neurons. Basically, a neuron has multiple input connections, called *dendrites* that receive synaptic inputs, and one output called *axon*. The strength of synapses indicates weights *w* of input signals *x*. In the neural cell, called *soma*, input signals are summed up, and if the strength exceeds a certain threshold, it fires an output signal via the axon output. The idea of creating a mathematical model to describe neural nets comes back to 1943, with McCulloch-Pitt's model. In the following years it was refined: Frank Rosenblatt (1958), and Minsky-Papert further extended this model in 1960s, with the introduction of **weights** as the measure of importance and the mechanism of **learning** those weights.\n",
    "\n",
    "Our mathematical neuron has multiple inputs *x* with weights *w*. The work done by soma mathematically translates to summation or *dot product* of inputs, plus a value of bias:\n",
    "\n",
    "$$\\sum_{i = 1}^{n}{W_{i}x_{i}} + b_{i} = W \\bullet x + b$$\n",
    "\n",
    "After the summation, an activation function is used to fire the output, if the sum is over a certain threshold, so in the most basic form the model of a neuron can be written as:\n",
    "\n",
    "$$f(x) = f(W \\bullet x + b)$$\n",
    "\n",
    "In our neuron model $f(x)$ is the activation function, or non-linearity, given the dot product of weights $W \\bullet x$ and a bias b."
   ]
  },
  {
   "cell_type": "markdown",
   "metadata": {},
   "source": [
    "Activation\n",
    "==========\n",
    "\n",
    "![](images/ch4/fig_4-2.png)\n",
    "\n",
    "Activation can technically be any function triggering output after a certain threshold. In fact, there're several choices for activation functions, most popular options are:\n",
    "\n",
    "-   Sigmoid: $\\sigma = 1/(1 + e^{- x})$\n",
    "\n",
    "-   Hyperbolic tangent: $\\tanh = (e^{2x} - 1)/(e^{2x} - 1)$\n",
    "\n",
    "-   Ramp-function or rectified linear unit (ReLU): $f(x) = \\max(0,x)$\n",
    "\n",
    "To visualize the difference, let's plot these functions:"
   ]
  },
  {
   "cell_type": "code",
   "execution_count": 32,
   "metadata": {},
   "outputs": [
    {
     "data": {
      "image/png": "[encoded data removed]",
      "text/plain": [
       "<Figure size 432x288 with 1 Axes>"
      ]
     },
     "metadata": {
      "needs_background": "light"
     },
     "output_type": "display_data"
    }
   ],
   "source": [
    "# illustration of activation functions\n",
    "import matplotlib.pylab as plt\n",
    "import numpy as np\n",
    "%matplotlib inline\n",
    "\n",
    "x = np.arange(-4,4,0.01)\n",
    "plt.plot(x, 1/(1+np.exp(-x)),'k--', label='sigmoid')\n",
    "plt.plot(x, np.tanh(x),'k:', label='tanh')\n",
    "plt.plot(x, np.maximum(x, 0),'k', label='relu')\n",
    "plt.xlabel('x')\n",
    "plt.ylabel('f(x)')\n",
    "plt.legend()\n",
    "plt.show()"
   ]
  },
  {
   "cell_type": "markdown",
   "metadata": {},
   "source": [
    "It's easy to see why rectifier and hyperbolic tangent functions are popular for activation: ReLu has a threshold at 0, and tanh is zero centered, returning values in the range \\[-1,1\\]. Sigmoid is a classic example of the activation function, it returns values in the range \\[0,1\\], it is not as steep as tanh and ReLU."
   ]
  },
  {
   "cell_type": "markdown",
   "metadata": {},
   "source": [
    "Perceptron\n",
    "==========\n",
    "\n",
    "The original Perceptron was a pretty heavy machine by Frank Rosenblatt, built at Cornell University and funded by US Office of Naval Research. The name comes, perhaps from the idea that at some point the machine can learn to recognize images. \n",
    "\n",
    "**Note:** While there're many machine learning frameworks out there, I recommend stepping through notebooks in this chapter that create neural networks from scratch, with pure Python and math. This helps understanding the principles of neural nets, while frameworks may abstract the details.\n",
    "\n",
    "In this project, we will use model similar to a single layer Perceptron, to create a single layer neural network. Later in this chapter, we'll look into deficiencies of such a model, and what can be done to improve it.\n",
    "\n",
    "## Project 4-1 Building and training Perceptron in Python\n",
    "\n",
    "As part of this project, let's build the model in pure Python, from scratch, without using any fancy libraries or tools to illustrate the concepts of neural nets. Perceptron is an example of what's called **supervised learning**, because we provide a set of labels, or expected outputs in order to train it:"
   ]
  },
  {
   "cell_type": "code",
   "execution_count": 33,
   "metadata": {},
   "outputs": [],
   "source": [
    "# simple perceptron model\n",
    "import numpy as np\n",
    "import matplotlib.pylab as plt\n",
    "%matplotlib inline\n",
    "\n",
    "class Perceptron():\n",
    "\n",
    "    def __init__(self, features):\n",
    "        np.random.seed(1) # for consistency \n",
    "        self.weights = np.zeros((features, 1)) \n",
    "        self.bias = 0\n",
    "        # alternatively: use small random numbers for weights\n",
    "        #self.weights = 0.01* np.random.randn(features, 1) \n",
    "        #self.bias = 1\n",
    "        \n",
    "    def activation(self, x):\n",
    "        return np.where(x>=0, 1, 0)\n",
    "        \n",
    "    \n",
    "    def predict(self, x):\n",
    "        return self.activation(np.dot(x, self.weights) + self.bias)\n",
    "        \n",
    "    def train(self, inputs, labels, lr=0.1, epochs=20):\n",
    "        errors = []\n",
    "        for t in range(epochs):\n",
    "            # calculate prediction\n",
    "            prediction = self.activation(np.dot(inputs, self.weights) + self.bias)\n",
    "            # adjust weights and bias\n",
    "            self.weights += lr * np.dot(inputs.T, (labels - prediction))\n",
    "            self.bias += lr * np.sum(labels - prediction)\n",
    "            # calculate loss (MSE)\n",
    "            loss = np.square(np.subtract(labels,prediction)).mean() \n",
    "            errors.append(loss)\n",
    "            print(f\"epoch {t}/{epochs} loss: {loss}\")\n",
    "            \n",
    "        plt.plot(errors)\n",
    "        plt.xlabel('epoch')\n",
    "        plt.ylabel('loss (MSE)') \n",
    "        plt.show()"
   ]
  },
  {
   "cell_type": "markdown",
   "metadata": {},
   "source": [
    "In just a few lines of code, our Python perceptron object implements the artificial neuron, following the models created in the middle of last century.\n",
    "\n",
    "Creating a dataset\n",
    "==================\n",
    "\n",
    "Can a neural network containing a single neuron solve logical problems? For our project let's use a logical operation, such as binary AND gate, which is the basis of most logical/rule based programming and digital circuits.\n",
    "\n",
    "**Note:** Other logical operations include OR, NOT etc. One operation we do not want to test *yet* is XOR for the reasons I'll explain in the following pages. Let's just say for now that a single perceptron is unable to solve XOR because it's not linearly separable.\n",
    "\n",
    "Our logical AND operation should resolve to the following values:\n",
    "\n",
    "1 AND 1 = 1\n",
    "\n",
    "1 AND 0 = 0\n",
    "\n",
    "0 AND 1 = 0\n",
    "\n",
    "0 AND 0 = 0\n",
    "\n",
    "From these rules, I'll make an array from the left hand side of the equation and provide it as an *input* to perceptron:\n",
    "\n",
    "($x_{1}$, $x_{2}$)=(1,1),(1,0),(0,1),(0,0)\n",
    "\n",
    "Our *labels* (values we expect perceptron to predict) come from the right-hand side of the equation: (1, 0, 0, 0). Let's initialize our dataset, with two Numpy arrays:"
   ]
  },
  {
   "cell_type": "code",
   "execution_count": 27,
   "metadata": {},
   "outputs": [],
   "source": [
    "# initialize train data set: inputs and labels\n",
    "labels = np.array([ [1], [0], [0], [0]])\n",
    "inputs = np.array([[1, 1],[1,0],[0,1],[0,0]])"
   ]
  },
  {
   "cell_type": "markdown",
   "metadata": {},
   "source": [
    "Initializing the model\n",
    "======================\n",
    "\n",
    "The perceptron class is initialized with weights and bias. The number of features (0 and 1) is the dimensionality of the dataset we intend to infer. \n",
    "It is often recommended to initialize weights with random small numbers.\n",
    "\n",
    "Training the model\n",
    "==================\n",
    "\n",
    "![](images/ch4/fig_4-4.png)\n",
    "\n",
    "The train method is what we use to make the model learn the weights it needs to predict real inputs. In the training function we supply several *hyperparameters*, in machine learning speak, this is a set of parameters that are set before learning begins. Training happens over a series of iterations we call *epochs*. Another hyperparameter we pass to train method is *lr*, or *learning rate*. Learning rate is the step size of ![][3]training, it controls the speed of convergence. Our activation function for this binary neuron is defined as: np.where(x\\>=0, 1, 0), and returns 0 or 1:"
   ]
  },
  {
   "cell_type": "code",
   "execution_count": 28,
   "metadata": {},
   "outputs": [
    {
     "name": "stdout",
     "output_type": "stream",
     "text": [
      "epoch 0/20 loss: 0.75\n",
      "epoch 1/20 loss: 0.25\n",
      "epoch 2/20 loss: 0.25\n",
      "epoch 3/20 loss: 0.0\n",
      "epoch 4/20 loss: 0.0\n",
      "epoch 5/20 loss: 0.0\n",
      "epoch 6/20 loss: 0.0\n",
      "epoch 7/20 loss: 0.0\n",
      "epoch 8/20 loss: 0.0\n",
      "epoch 9/20 loss: 0.0\n",
      "epoch 10/20 loss: 0.0\n",
      "epoch 11/20 loss: 0.0\n",
      "epoch 12/20 loss: 0.0\n",
      "epoch 13/20 loss: 0.0\n",
      "epoch 14/20 loss: 0.0\n",
      "epoch 15/20 loss: 0.0\n",
      "epoch 16/20 loss: 0.0\n",
      "epoch 17/20 loss: 0.0\n",
      "epoch 18/20 loss: 0.0\n",
      "epoch 19/20 loss: 0.0\n",
      "[[0.1]\n",
      " [0.1]]\n"
     ]
    },
    {
     "data": {
      "image/png": "[encoded data removed]",
      "text/plain": [
       "<Figure size 432x288 with 1 Axes>"
      ]
     },
     "metadata": {
      "needs_background": "light"
     },
     "output_type": "display_data"
    }
   ],
   "source": [
    "perceptron = Perceptron(2) \n",
    "perceptron.train(inputs,labels)\n",
    "print(perceptron.weights)"
   ]
  },
  {
   "cell_type": "markdown",
   "metadata": {},
   "source": [
    "\n",
    "Note, that in the above example we also calculate the loss, also known as a cost function. For cost, we can use mean squared error (MSE) or cross-entropy. The cost becomes small when the predicted values get closer to the expected output, so we can write this down as:\n",
    "\n",
    "$$ C = \\frac{1}{n}\\sum_{i}^{n}{(x_{i} - y_{i})}^{2} $$\n",
    "\n",
    "Or, in Python:\n",
    "```Python\n",
    "loss = np.mean((labels-z[1])**2)\n",
    "```\n",
    "\n",
    "The goal of neural network is minimizing the cost $C$. The method of minimizing the loss often implies using *gradient descent* to find the minimum of the cost function.\n",
    "\n",
    "![](images/ch4/fig_4-6.png)\n",
    "\n",
    "Validating the model\n",
    "====================\n",
    "\n",
    "The perceptron learns very quickly (our dataset is very small), let's give it a test value to see if it predicts the result correctly:"
   ]
  },
  {
   "cell_type": "code",
   "execution_count": 5,
   "metadata": {},
   "outputs": [
    {
     "name": "stdout",
     "output_type": "stream",
     "text": [
      "[1]\n"
     ]
    }
   ],
   "source": [
    "# testing prediction\n",
    "test = np.array([1,1])\n",
    "print(perceptron.predict(test))"
   ]
  },
  {
   "cell_type": "markdown",
   "metadata": {},
   "source": [
    "For logical gate, we chose a very small dataset. Let's test the Perceptron on a larger set of data. We'll make one exception here to our pure Python rule in this chapter and use scikit-learn and functions it provides for datasets. First, I use make\\_blobs function that conveniently generates random datasets we can further use for clustering (or Perceptron decision line separation). In this example, I defined two centers for the perceptron. I also used scikit-learn train\\_test\\_split function to split the dataset into test and training data:"
   ]
  },
  {
   "cell_type": "code",
   "execution_count": 8,
   "metadata": {},
   "outputs": [
    {
     "name": "stdout",
     "output_type": "stream",
     "text": [
      "train: (150,) test: (50,)\n"
     ]
    },
    {
     "data": {
      "image/png": "[encoded data removed]",
      "text/plain": [
       "<Figure size 432x288 with 1 Axes>"
      ]
     },
     "metadata": {
      "needs_background": "light"
     },
     "output_type": "display_data"
    }
   ],
   "source": [
    "# generating random dataset\n",
    "from sklearn.datasets import make_blobs\n",
    "from sklearn.model_selection import train_test_split\n",
    "x, y= make_blobs(n_samples=200, centers=2, random_state=1)\n",
    "x_train, x_test, y_train, y_test = train_test_split(x, y, random_state=1)\n",
    "print(f'train: {y_train.shape} test: {y_test.shape}')\n",
    "plt.scatter(x[:,0], x[:,1], c=y)\n",
    "plt.show()"
   ]
  },
  {
   "cell_type": "markdown",
   "metadata": {},
   "source": [
    "Now, I use the training dataset from the above code to train the perceptron on the training subset, and display the weights and bias:"
   ]
  },
  {
   "cell_type": "code",
   "execution_count": 10,
   "metadata": {},
   "outputs": [
    {
     "name": "stdout",
     "output_type": "stream",
     "text": [
      "epoch 0/20 loss: 0.5\n",
      "epoch 1/20 loss: 0.18666666666666668\n",
      "epoch 2/20 loss: 0.0\n",
      "epoch 3/20 loss: 0.0\n",
      "epoch 4/20 loss: 0.0\n",
      "epoch 5/20 loss: 0.0\n",
      "epoch 6/20 loss: 0.0\n",
      "epoch 7/20 loss: 0.0\n",
      "epoch 8/20 loss: 0.0\n",
      "epoch 9/20 loss: 0.0\n",
      "epoch 10/20 loss: 0.0\n",
      "epoch 11/20 loss: 0.0\n",
      "epoch 12/20 loss: 0.0\n",
      "epoch 13/20 loss: 0.0\n",
      "epoch 14/20 loss: 0.0\n",
      "epoch 15/20 loss: 0.0\n",
      "epoch 16/20 loss: 0.0\n",
      "epoch 17/20 loss: 0.0\n",
      "epoch 18/20 loss: 0.0\n",
      "epoch 19/20 loss: 0.0\n"
     ]
    },
    {
     "data": {
      "image/png": "[encoded data removed]",
      "text/plain": [
       "<Figure size 432x288 with 1 Axes>"
      ]
     },
     "metadata": {
      "needs_background": "light"
     },
     "output_type": "display_data"
    },
    {
     "name": "stdout",
     "output_type": "stream",
     "text": [
      "weights=[[-19.44047478]\n",
      " [-40.50764943]] bias=-4.699999999999999\n"
     ]
    }
   ],
   "source": [
    "# training the model\n",
    "perceptron = Perceptron(2)\n",
    "perceptron.train(x_train,y_train.reshape(y_train.shape[0],1))\n",
    "print(f'weights={perceptron.weights} bias={perceptron.bias}')"
   ]
  },
  {
   "cell_type": "markdown",
   "metadata": {},
   "source": [
    "Decision Line\n",
    "=============\n",
    "\n",
    "![](images/ch4/fig_4-7.png)\n",
    "\n",
    "The perceptron we created works as a linear classifier for data that can be separated linearly. The line separating two clusters of labeled data is called the decision line, and is determined by the equation: $y = w_{i}x_{i} + b$. *We already learned* weights $w_{i}$ and bias $b$, when we trained the model, they are now stored in perceptron.weights, perceptron.bias variables. Let's plot the decision line and verify that it separates both labeled clusters we created earlier:"
   ]
  },
  {
   "cell_type": "code",
   "execution_count": 12,
   "metadata": {},
   "outputs": [
    {
     "data": {
      "image/png": "[encoded data removed]",
      "text/plain": [
       "<Figure size 432x288 with 1 Axes>"
      ]
     },
     "metadata": {
      "needs_background": "light"
     },
     "output_type": "display_data"
    }
   ],
   "source": [
    "# drawing decision line\n",
    "x_ = np.linspace(x.min(),x.max(),100)\n",
    "y_ = -(perceptron.weights[0]*x_ + perceptron.bias)/perceptron.weights[1]\n",
    "plt.plot(x_, y_, 'k--')\n",
    "plt.scatter(x[:,0], x[:,1], c=y)\n",
    "plt.show()"
   ]
  },
  {
   "cell_type": "markdown",
   "metadata": {},
   "source": [
    "Multi-layer networks\n",
    "====================\n",
    "\n",
    "It's easy for our Perceptron-dude to draw decision line for a dataset containing logical AND problem. But what if the data is not linearly separable? The simplest case for such a data set is logical XOR operation.\n",
    "\n",
    "\n",
    "![](images/ch4/fig_4-9.png)\n",
    "\n",
    "As you can see, if we draw the XOR dataset next to AND dataset on the plane, the problem for a simple linear classifier, such as our perceptron becomes apparent.\n",
    "\n",
    "**What a single neuron cannot predict**: A single layer neuron works as a linear classifier, that is it works when data is linearly separable (such as a logical AND, OR operations). One famous example where single layer perceptron doesn't work that easily is a logical XOR operation.\n",
    "\n",
    "Fortunately, problems like XOR gate can be represented as a composition of several logical operations:\n",
    "\n",
    "$$x_{1}\\text{ XOR }x_{2} = \\left( x_{1}\\text{ OR }x_{2} \\right)\\text{ AND NOT }\\left( x_{1}\\text{ AND }x_{2} \\right)$$\n",
    "\n",
    "In terms of neural net, intuitively, it means we need additional *layers* to represent the composition. This is achieved, for example, by multi-layer neural networks. The reason we call them networks is because these structures can be represented by graphs of composite functional transformations. A multi-layer perceptron is also called a *feedforward* network because weights flow from inputs, through the neural network hidden layers, and to the outputs. Perceptron, when it has multiple layers, is a case of a feedforward network, and the idea that these networks can recognize images, dating back to the 60s, is implemented in a special type of these networks called *convolutional neural networks*. Networks that in addition to feedforward connections include feedback connections are called *recurrent neural networks*."
   ]
  },
  {
   "cell_type": "markdown",
   "metadata": {},
   "source": [
    "Backpropagation\n",
    "===============\n",
    "\n",
    "> Can the brain do backpropagation?\n",
    ">\n",
    "> Geoffrey Hinton\n",
    "\n",
    "![](images/ch4/fig_4-10.png)\n",
    "\n",
    "Geoffrey Hinton's lecture in Stanford, entitled exactly as the quote I brought forward in this section, points at various ways why backpropagation may still work in humans and also looks at other ways to optimize neural nets. In any case, for most ANNs, backpropagation seems like a good idea.\n",
    "\n",
    "Recall, that the network can be represented by a graph, i.e. a composition of functions: in *forward* propagation, the input layer takes the input weights, each layer calculates the product and calls activation function $f$, which triggers the output. For a simple network, consisting of an input layer with weights $W_{0}$ , hidden layers with weights $W_{1}$ , the *forward* pass looks like this:\n",
    "\n",
    "Which we can write down as, where $f$ is the activation function, for example a sigmoid, returning the *prediction* of each layer, and the multi-layer sequence of these functions can be written down as composition function:\n",
    "\n",
    "$$f\\left( x \\right) = \\ f_{1}\\left( f_{0}\\left( x \\right) \\right)$$\n",
    "\n",
    "or in terms of weights and biases:\n",
    "\n",
    "$$\n",
    "{f\\left( x \\right) = \\ f_{1}(W_{1} \\bullet f_{0}(W_{0} \\bullet x + b_{0}) + b_{1})}$$\n",
    "\n",
    "In each layer of our network, we can calculate the error as cost function, i.e. the difference between target values (or *labels* in data science-speak) $\\widehat{y}$ and the layer prediction $y = f\\left( x \\right)$:\n",
    "\n",
    "$$C = \\frac{1}{2}\\ {(\\widehat{y} - \\ y)}^{2}$$\n",
    "\n",
    "The derivative of this error by the predicted value, is simply $\\frac{dC}{\\text{dy}} = \\ \\widehat{y} - y.$ For backpropagation, we calculate the derivative of the cost with respect to weights and biases of the network, calculated during the forward pass:\n",
    "\n",
    "$$\\frac{\\partial C}{\\partial W_{i}},\\ \\frac{\\partial C}{\\partial b_{i}}$$\n",
    "\n",
    "According to the chain rule, the derivative of the cost function becomes:\n",
    "\n",
    "$$\\frac{\\partial C}{\\partial w} = \\frac{\\partial C}{\\partial y}\\frac{\\partial y}{\\partial z}\\frac{\\partial z}{\\partial w}$$\n",
    "\n",
    "## Project 4-2 Naural Net with Backpropagation\n",
    "\n",
    "In this project we'll take a logical XOR operation that our simple single layer Perceptron wasn't able to solve, and make a neural net that can solve it with a neural network with multiple layers and backpropagation:\n",
    "\n",
    "0 XOR 0 = 0\n",
    "\n",
    "1 XOR 0 = 1\n",
    "\n",
    "0 XOR 1 = 1\n",
    "\n",
    "1 XOR 1 = 0\n",
    "\n",
    "The goal of this project is to demonstrate that multi-layer networks can solve non-linear problems. Our network will include a hidden layer, in addition to input and output layers: in the constructor, we'll define network topology as layers=\\[2,2,1\\], where input and hidden layer are both shaped as inputs, e.g. \\[\\[0,0\\],\\[0,1\\],\\[1,0\\],\\[1,1\\]\\], i.e. both have 2 dimensions and the output layer is a one-dimensional vector, same shape as the labels vector \\[0,1,1,0\\]. In the constructor we'll initialize weights and biases with random values in the range \\[0, 1):"
   ]
  },
  {
   "cell_type": "code",
   "execution_count": 34,
   "metadata": {},
   "outputs": [],
   "source": [
    "# neural network with backprop\n",
    "import numpy as np\n",
    "import matplotlib.pylab as plt\n",
    "%matplotlib inline\n",
    "\n",
    "class NNBackprop():\n",
    "\n",
    "    def __init__(self, layers=[2,2,1]):\n",
    "        np.random.seed(1) # for consistency \n",
    "        self.w = [np.random.uniform(size=(layers[i], layers[i+1])) for i in range(len(layers)-1)]\n",
    "        self.b = [np.random.uniform(size=(1, layers[i+1])) for i in range(len(layers)-1)]\n",
    "        \n",
    "    def sigmoid (self, x):\n",
    "        return 1/(1 + np.exp(-x))\n",
    "\n",
    "    def sigmoid_derivative(self, x):\n",
    "        return x * (1 - x)\n",
    "        \n",
    "    def forward(self, x):\n",
    "        z0 = self.sigmoid(np.dot(x,self.w[0]) + self.b[0])\n",
    "        z1 = self.sigmoid(np.dot(z0, self.w[1]) + self.b[1])\n",
    "        return (z0, z1)\n",
    "    \n",
    "    def backward(self, z, labels, lr):\n",
    "        error = labels - z[1]\n",
    "        d1 = error * self.sigmoid_derivative(z[1])\n",
    "        d0 = d1.dot(self.w[1].T) * self.sigmoid_derivative(z[0])\n",
    "        # update weights/biases\n",
    "        self.w[1] += z[0].T.dot(d1) * lr\n",
    "        self.b[1] += np.sum(d1,axis=0,keepdims=True) * lr\n",
    "        self.w[0] += inputs.T.dot(d0) * lr\n",
    "        self.b[0] += np.sum(d0,axis=0,keepdims=True) * lr\n",
    "        \n",
    "    def train(self, inputs, labels, epochs=10000, lr=0.1):\n",
    "        errors = []\n",
    "        for t in range(epochs):\n",
    "            z = self.forward(inputs)\n",
    "            self.backward(z, labels, lr)\n",
    "             # calculate loss (MSE)\n",
    "            loss = np.mean((labels-z[1])**2) \n",
    "            errors.append(loss)\n",
    "        \n",
    "        plt.plot(errors)\n",
    "        plt.xlabel('epoch')\n",
    "        plt.ylabel('loss (MSE)') \n",
    "        plt.show()"
   ]
  },
  {
   "cell_type": "markdown",
   "metadata": {},
   "source": [
    "For backpropagation, we'll add both sigmoid and sigmoid derivative functions for activations:\n",
    "```Python\n",
    "def sigmoid (self, x):\n",
    "\n",
    "return 1/(1 + np.exp(-x))\n",
    "\n",
    "def sigmoid\\_derivative(self, x):\n",
    "\n",
    "return x \\* (1 - x)\n",
    "```\n",
    "\n",
    "The forward function provides the forward pass of our network, calling activation on the dot product at each layer. Backpropagation and weights update happen in backward method, for each layer we calculate gradients and pass them in the reverse order from the bottom layer of the neural net to the top. In the training method, we iterate over a number of epochs through our neural network, first making a forward pass and calculating initial weights, then making a backward pass, calculating gradients and updating weights based on the error. Finally, we calculate the overall cost and plot it.\n",
    "\n",
    "To prove that our network works, let's supply it with the inputs and labels for our expected outputs and train the model:"
   ]
  },
  {
   "cell_type": "code",
   "execution_count": 31,
   "metadata": {},
   "outputs": [
    {
     "name": "stdout",
     "output_type": "stream",
     "text": [
      "input: [[0], [1], [1], [0]]\n",
      "prediction: [[0], [1], [1], [0]]\n"
     ]
    },
    {
     "data": {
      "image/png": "[encoded data removed]",
      "text/plain": [
       "<Figure size 432x288 with 1 Axes>"
      ]
     },
     "metadata": {
      "needs_background": "light"
     },
     "output_type": "display_data"
    }
   ],
   "source": [
    "# XOR operation:\n",
    "# 0 XOR 0 = 0 \n",
    "# 1 XOR 0 = 1\n",
    "# 0 XOR 1 = 1\n",
    "# 1 XOR 1 = 0\n",
    "inputs = np.array([[0,0],[0,1],[1,0],[1,1]])\n",
    "labels = np.array([[0],[1],[1],[0]])\n",
    "\n",
    "# initialize and train our network\n",
    "nn = NNBackprop(layers=[2,2,1])\n",
    "nn.train(inputs,labels)\n",
    "\n",
    "# run prediction again to show the results\n",
    "prediction = nn.forward(inputs)[1]\n",
    "print(f'input: {labels.tolist()}')\n",
    "print(f'prediction: {[[int(p > 0.5)] for p in prediction]}')"
   ]
  },
  {
   "cell_type": "markdown",
   "metadata": {},
   "source": [
    "Summary\n",
    "=======\n",
    "\n",
    "In this chapter I introduced basics of neural networks and machine learning, starting with a biological analogy of a single neuron. As part of the practical projects, I created a fully functional model of Perceptron in Python, trained it with sample data and visualized the results. \n",
    "\n",
    "## Reference\n",
    "\n",
    "[*Video Course*](http://ai-learning.vhx.tv) Need a deep dive? Watch my [*video course*](http://ai-learning.vhx.tv) that complements this book with additional examples and video-walkthroughs. \n",
    "\n",
    "[*Web Site*](http://activefitness.ai) for research and supplemental materials.\n"
   ]
  },
  {
   "cell_type": "code",
   "execution_count": null,
   "metadata": {},
   "outputs": [],
   "source": []
  }
 ],
 "metadata": {
  "kernelspec": {
   "display_name": "Python (ch4)",
   "language": "python",
   "name": "ch4"
  },
  "language_info": {
   "codemirror_mode": {
    "name": "ipython",
    "version": 3
   },
   "file_extension": ".py",
   "mimetype": "text/x-python",
   "name": "python",
   "nbconvert_exporter": "python",
   "pygments_lexer": "ipython3",
   "version": "3.7.4"
  }
 },
 "nbformat": 4,
 "nbformat_minor": 4
}
