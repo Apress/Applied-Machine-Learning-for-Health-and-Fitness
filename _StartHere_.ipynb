{
 "cells": [
  {
   "cell_type": "markdown",
   "metadata": {},
   "source": [
    "# Applied Machine Learning in Health and Fitness\n",
    "\n",
    "For online updates, please check APRESS\n",
    "\n",
    "Also, check my website: [activefitness.ai](http://activefitness.ai) for additional research and supplemental materials in my [video course](http://ai-learning.vhx.tv). \n",
    "\n",
    "## Source Code\n",
    "\n",
    "Welcome! Each This is the source code for the book: you can quickly jump to notebooks from this file. It is recommended that your kernel environment is set to Python 3. Check [requirements.txt](requirements.txt) for dependencies.\n",
    "\n",
    "\n",
    "* [Ch2 - Physics of Sports](Ch2_PhysicsOfSports.ipynb)\n",
    "* [Ch3 - Sport Scientist Toolbox](Ch3_SportScientistToolbox.ipynb)\n",
    "* [Ch4 - Neural Networks](Ch4_NeuralNetworks.ipynb)\n",
    "* [Ch5 - Sensors](Ch5_Sensors.ipynb)\n",
    "* [Ch6 - Deep Computer Vision](Ch6_DeepComputerVision.ipynb)\n",
    "* [Ch7 - 2D Body Pose Estimation](Ch7_2DBodyPoseEstimation.ipynb)\n",
    "* [Ch8 - 3D Pose Estimation](Ch8_3DPoseEstimation.ipynb)\n",
    "* [Ch9 - Video Action Recognition](Ch9_VideoActionRecognition.ipynb)\n",
    "* [Ch10 - Reinforcement Learning](Ch10_ReinforcementLearning.ipynb)\n",
    "* [Ch11 - Machine Learning in the Cloud](Ch11_MachineLearningInTheCloud.ipynb)\n",
    "* [Ch12 - Machine Learning Automaiton and Consumption](Ch12_MLAutomation.ipynb)\n"
   ]
  },
  {
   "cell_type": "code",
   "execution_count": null,
   "metadata": {},
   "outputs": [],
   "source": []
  }
 ],
 "metadata": {
  "kernelspec": {
   "display_name": "rl",
   "language": "python",
   "name": "rl"
  },
  "language_info": {
   "codemirror_mode": {
    "name": "ipython",
    "version": 3
   },
   "file_extension": ".py",
   "mimetype": "text/x-python",
   "name": "python",
   "nbconvert_exporter": "python",
   "pygments_lexer": "ipython3",
   "version": "3.7.5"
  }
 },
 "nbformat": 4,
 "nbformat_minor": 4
}
